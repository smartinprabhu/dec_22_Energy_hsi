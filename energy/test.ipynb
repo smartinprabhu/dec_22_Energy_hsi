{
 "cells": [
  {
   "cell_type": "code",
   "execution_count": 1,
   "metadata": {},
   "outputs": [
    {
     "name": "stdout",
     "output_type": "stream",
     "text": [
      "['energy_hourly', 'weather_hour']\n"
     ]
    }
   ],
   "source": [
    "import duckdb\n",
    "import pandas as pd\n",
    "\n",
    "def create_duckdb_connection(db_file: str) -> duckdb.DuckDBPyConnection:\n",
    "    \"\"\"\n",
    "    Connect to a DuckDB database.\n",
    "\n",
    "    Args:\n",
    "        db_file (str): The file path to the DuckDB database.\n",
    "\n",
    "    Returns:\n",
    "        duckdb.DuckDBPyConnection: A connection object to the DuckDB database.\n",
    "\n",
    "    Example:\n",
    "        conn = create_duckdb_connection('my_database.db')\n",
    "    \"\"\"\n",
    "    return duckdb.connect(db_file)\n",
    "\n",
    "def read_csv_file(file_path: str) -> pd.DataFrame:\n",
    "\n",
    "    return pd.read_csv(file_path)\n",
    "\n",
    "def create_table_from_dataframe(conn: duckdb.DuckDBPyConnection, df: pd.DataFrame, table_name: str) -> None:\n",
    "    \"\"\"\n",
    "    Create a table in the DuckDB database from a Pandas DataFrame.\n",
    "\n",
    "    Args:\n",
    "        conn (duckdb.DuckDBPyConnection): A connection object to the DuckDB database.\n",
    "        df (pd.DataFrame): The Pandas DataFrame to create the table from.\n",
    "        table_name (str): The name of the table to create.\n",
    "\n",
    "    Returns:\n",
    "        None\n",
    "\n",
    "    Example:\n",
    "        create_table_from_dataframe(conn, df, 'weather_data')\n",
    "    \"\"\"\n",
    "    create_table_query = f\"CREATE TABLE {table_name} AS SELECT * FROM df\"\n",
    "    conn.execute(create_table_query)\n",
    "\n",
    "def list_tables(conn: duckdb.DuckDBPyConnection) -> list:\n",
    "    \"\"\"\n",
    "    List all the tables in the DuckDB database.\n",
    "\n",
    "    Args:\n",
    "        conn (duckdb.DuckDBPyConnection): A connection object to the DuckDB database.\n",
    "\n",
    "    Returns:\n",
    "        list: A list of table names in the database.\n",
    "\n",
    "    Example:\n",
    "        tables = list_tables(conn)\n",
    "        print(tables)\n",
    "    \"\"\"\n",
    "    result = conn.execute(\"SHOW TABLES\")\n",
    "    return [table[0] for table in result.fetchall()]\n",
    "\n",
    "# Connect to the DuckDB database\n",
    "\n",
    "\n",
    "conn = duckdb.connect(\"energy_db.db\")\n",
    "\n",
    "# Read the Excel files into Pandas DataFrames\n",
    "excel_file = '/Users/vigneshk/NOC-DASHBOARD/hsense-insights/energy/whitefield_weather_data-31-07-2024.csv'\n",
    "\n",
    "\n",
    "excel_file4 = '/Users/vigneshk/NOC-DASHBOARD/hsense-insights/energy/data_energy_kwh_30-07-2024.csv'\n",
    "df = pd.read_csv(excel_file)\n",
    "\n",
    "dfy = pd.read_csv(excel_file4)\n",
    "# Create tables in the DuckDB database from the DataFrames\n",
    "create_table_from_dataframe(conn, df, 'weather_hour')\n",
    "\n",
    "create_table_from_dataframe(conn, dfy, 'energy_hourly')\n",
    "# List all the tables in the database\n",
    "tables = list_tables(conn)\n",
    "print(tables)\n",
    "\n",
    "# Close the connection to the database\n",
    "conn.close()"
   ]
  },
  {
   "cell_type": "code",
   "execution_count": null,
   "metadata": {},
   "outputs": [],
   "source": []
  },
  {
   "cell_type": "markdown",
   "metadata": {},
   "source": [
    "# testing"
   ]
  },
  {
   "cell_type": "code",
   "execution_count": 1,
   "metadata": {},
   "outputs": [
    {
     "name": "stderr",
     "output_type": "stream",
     "text": [
      "09:11:14 - cmdstanpy - INFO - Chain [1] start processing\n",
      "09:11:17 - cmdstanpy - INFO - Chain [1] done processing\n",
      "FutureWarning: 'H' is deprecated and will be removed in a future version, please use 'h' instead.\n",
      "09:11:21 - cmdstanpy - INFO - Chain [1] start processing\n",
      "09:11:21 - cmdstanpy - INFO - Chain [1] done processing\n",
      "09:11:25 - cmdstanpy - INFO - Chain [1] start processing\n",
      "09:12:08 - cmdstanpy - INFO - Chain [1] done processing\n",
      "FutureWarning: 'H' is deprecated and will be removed in a future version, please use 'h' instead.\n",
      "FutureWarning: 'H' is deprecated and will be removed in a future version, please use 'h' instead.\n",
      "09:12:18 - cmdstanpy - INFO - Chain [1] start processing\n",
      "09:12:20 - cmdstanpy - INFO - Chain [1] done processing\n"
     ]
    }
   ],
   "source": [
    "\"\"\"Energy-Analyzer Flask API\"\"\"\n",
    "import json\n",
    "import pandas as pd\n",
    "import pytz\n",
    "from datetime import datetime, time, timedelta\n",
    "from flask import Flask, Response\n",
    "from flask_cors import CORS\n",
    "from datetime import timedelta\n",
    "from datetime import datetime\n",
    "from dateutil.relativedelta import relativedelta\n",
    "from datetime import datetime\n",
    "from dateutil.relativedelta import relativedelta\n",
    "from fig_day import fig_day\n",
    "from load_data import load_and_process_data\n",
    "from fig_week import fig_week\n",
    "from datetime import timedelta\n",
    "import pandas as pd\n",
    "from fig_month import fig_month\n",
    "from fig_workweek import fig_workweek\n",
    "from fig_weekend import fig_weekend\n",
    "from fig_year import fig_yearly\n",
    "from metric import cal_met_day,cal_met_week,cal_met_month,cal_met_year,cal_met_workweek,cal_met_weekend\n",
    "from process  import synthetic_algol,model_energy,model_weather,model_weather_day,weather_present,weather_present_day,model_energy_day\n",
    "app = Flask(__name__)\n",
    "CORS(app)\n",
    "\n",
    "\n",
    "cost_per_kw = 6.09\n",
    "num_days = 120\n",
    "\n",
    "df_energy,dz_hour=load_and_process_data()\n",
    "dz_hour['date'] = pd.to_datetime(dz_hour['date'])\n",
    "# Assuming dz_hour is your DataFrame\n",
    "# Ensure \"date\" column is in datetime format\n",
    "dz_hour['date'] = pd.to_datetime(dz_hour['date'])\n",
    "\n",
    "# Set the \"date\" column as the index\n",
    "dz_hour = dz_hour.set_index('date')\n",
    "\n",
    "# Now you can resample\n",
    "dz_day = dz_hour.resample('D').mean().reset_index()\n",
    "dz_hour=dz_hour.reset_index()\n",
    "df_energy[\"Timestamp_UTC\"] = pd.to_datetime(df_energy[\"Timestamp_UTC\"], errors=\"coerce\")\n",
    "\n",
    "df_hour=synthetic_algol(df_energy)\n",
    "\n",
    "energy_data_all=model_energy(df_hour)\n",
    "\n",
    "df_daily=model_energy_day(energy_data_all)\n",
    "\n",
    "weather_data_hour=model_weather(dz_hour)\n",
    "\n",
    "dz_hour=weather_present(weather_data_hour)\n",
    "weather_data_day=model_weather_day (dz_day)\n",
    "dz_day=weather_present_day(weather_data_day)\n"
   ]
  },
  {
   "cell_type": "code",
   "execution_count": 2,
   "metadata": {},
   "outputs": [],
   "source": [
    "\n",
    "    tz = pytz.timezone(\"Asia/Kolkata\")\n",
    "    current_time = datetime.now(tz)\n",
    "    current_time_dt64 = pd.Timestamp(current_time).tz_convert(tz)\n",
    "    \n",
    "    energy_data_all[\"ds\"] = pd.to_datetime(energy_data_all[\"ds\"])\n",
    "    if energy_data_all[\"ds\"].dt.tz is None:\n",
    "        energy_data_all[\"ds\"] = energy_data_all[\"ds\"].dt.tz_localize(tz)\n",
    "    else:\n",
    "        energy_data_all[\"ds\"] = energy_data_all[\"ds\"].dt.tz_convert(tz)\n",
    "\n",
    "    dz_hour[\"ds\"] = pd.to_datetime(dz_hour[\"ds\"])\n",
    "    if dz_hour[\"ds\"].dt.tz is None:\n",
    "        dz_hour[\"ds\"] = dz_hour[\"ds\"].dt.tz_localize(tz)\n",
    "    else:\n",
    "        dz_hour[\"ds\"] = dz_hour[\"ds\"].dt.tz_convert(tz)\n",
    "\n",
    "    # Split the data into historical and forecasted\n",
    "    historical_data = energy_data_all[energy_data_all[\"ds\"] <= current_time_dt64]\n",
    "    forecasted_data = energy_data_all[energy_data_all[\"ds\"] > current_time_dt64]\n",
    "    historical_data = historical_data[historical_data[\"ds\"] >= current_time_dt64 - pd.Timedelta(days=2)]\n",
    "\n",
    "    # Get the end of the next 24 hours\n",
    "    next_24_hours_end = current_time + timedelta(days=1)\n",
    "    next_24_hours_end = pd.Timestamp(next_24_hours_end.replace(hour=23, minute=59, second=59, microsecond=999999)).tz_convert(tz)\n",
    "\n",
    "    forecasted_bar_data = energy_data_all[\n",
    "        (energy_data_all[\"ds\"] > current_time_dt64) & (energy_data_all[\"ds\"] <= next_24_hours_end)\n",
    "    ]\n",
    "    # For annotation calculation\n",
    "    current_day_end = datetime.combine(current_time.date(), time(23, 59, 59, 999999)).astimezone(tz)\n",
    "    forecasted_data_today = energy_data_all[\n",
    "        (energy_data_all[\"ds\"] > current_time_dt64) & (energy_data_all[\"ds\"] <= current_day_end)\n",
    "    ]"
   ]
  },
  {
   "cell_type": "code",
   "execution_count": 4,
   "metadata": {},
   "outputs": [],
   "source": [
    "    total_df = pd.concat([historical_data, forecasted_data_today])\n",
    "    max_value = total_df[\"y\"].max()\n",
    "    max_date = total_df.loc[total_df[\"y\"].idxmax(), \"ds\"].strftime(\"%d %b %Y, %I %p\")\n",
    "    min_value = total_df[\"y\"].min()\n",
    "    min_date = total_df.loc[total_df[\"y\"].idxmin(), \"ds\"].strftime(\"%d %b %Y, %I %p\")\n",
    "    total_average = total_df[\"y\"].mean()\n",
    "    dz_hour[\"ds\"] = pd.to_datetime(dz_hour[\"ds\"])\n",
    "    start_time = current_time - pd.Timedelta(days=2)\n",
    "    end_time = current_time.replace(hour=23, minute=59, second=59) + pd.Timedelta(hours=24)\n",
    "    combined_temp_data = dz_hour[(dz_hour[\"ds\"] >= start_time) & (dz_hour[\"ds\"] <= end_time)]\n",
    "    before_current_time = combined_temp_data[combined_temp_data[\"ds\"] <= current_time]\n",
    "    after_current_time = combined_temp_data[combined_temp_data[\"ds\"] > current_time]\n",
    "\n"
   ]
  },
  {
   "cell_type": "code",
   "execution_count": 9,
   "metadata": {},
   "outputs": [
    {
     "data": {
      "application/vnd.plotly.v1+json": {
       "config": {
        "plotlyServerURL": "https://plot.ly"
       },
       "data": [
        {
         "customdata": [
          120.53113377531903,
          126.149892643152,
          139.15848259423612,
          145.8856383666038,
          134.23258816308925,
          105.15430717269591,
          72.41642763393712,
          50.842209188343624,
          44.416293138086886,
          45.48492807399419,
          45.09347064362765,
          43.46579659845879,
          49.77023338578472,
          71.4161892027668,
          103.977177783113,
          132.48133556490237,
          143.5316486609748,
          136.77558553758797,
          124.61921122211557,
          120.48030927214643,
          126.99733986833164,
          135.421092609569,
          136.15835703647215,
          129.38121237573046,
          124.787165395282,
          130.76013436959136,
          144.09543259032134,
          151.12033345671676,
          139.73477950379925,
          110.89215039632741,
          78.3561966059751,
          56.94853303772957,
          50.65291995550036,
          51.815527980629376,
          51.481989109900375,
          49.876348844099,
          56.16700457494158,
          77.76379455918892,
          110.24145250852453,
          138.63005570455337,
          149.53470768420146,
          142.60465271214588,
          130.2473828188165,
          125.88225101632779,
          132.14992094459447,
          140.3040217180562,
          140.75433261154166,
          133.67558330473352
         ],
         "hovertemplate": "<span style=\"text-align:left;font-family:Mulish;\"></span><br><b>Date: </b>%{x|%d %b %Y}, %{x|%I %p}<br><b>Consumption </b>: %{y:.2f} kWh <br><b>Cost</b>: %{customdata:.2f}",
         "marker": {
          "color": "#2275e0"
         },
         "name": "Actual Consumption",
         "type": "bar",
         "x": [
          "2024-09-08T10:00:00+05:30",
          "2024-09-08T11:00:00+05:30",
          "2024-09-08T12:00:00+05:30",
          "2024-09-08T13:00:00+05:30",
          "2024-09-08T14:00:00+05:30",
          "2024-09-08T15:00:00+05:30",
          "2024-09-08T16:00:00+05:30",
          "2024-09-08T17:00:00+05:30",
          "2024-09-08T18:00:00+05:30",
          "2024-09-08T19:00:00+05:30",
          "2024-09-08T20:00:00+05:30",
          "2024-09-08T21:00:00+05:30",
          "2024-09-08T22:00:00+05:30",
          "2024-09-08T23:00:00+05:30",
          "2024-09-09T00:00:00+05:30",
          "2024-09-09T01:00:00+05:30",
          "2024-09-09T02:00:00+05:30",
          "2024-09-09T03:00:00+05:30",
          "2024-09-09T04:00:00+05:30",
          "2024-09-09T05:00:00+05:30",
          "2024-09-09T06:00:00+05:30",
          "2024-09-09T07:00:00+05:30",
          "2024-09-09T08:00:00+05:30",
          "2024-09-09T09:00:00+05:30",
          "2024-09-09T10:00:00+05:30",
          "2024-09-09T11:00:00+05:30",
          "2024-09-09T12:00:00+05:30",
          "2024-09-09T13:00:00+05:30",
          "2024-09-09T14:00:00+05:30",
          "2024-09-09T15:00:00+05:30",
          "2024-09-09T16:00:00+05:30",
          "2024-09-09T17:00:00+05:30",
          "2024-09-09T18:00:00+05:30",
          "2024-09-09T19:00:00+05:30",
          "2024-09-09T20:00:00+05:30",
          "2024-09-09T21:00:00+05:30",
          "2024-09-09T22:00:00+05:30",
          "2024-09-09T23:00:00+05:30",
          "2024-09-10T00:00:00+05:30",
          "2024-09-10T01:00:00+05:30",
          "2024-09-10T02:00:00+05:30",
          "2024-09-10T03:00:00+05:30",
          "2024-09-10T04:00:00+05:30",
          "2024-09-10T05:00:00+05:30",
          "2024-09-10T06:00:00+05:30",
          "2024-09-10T07:00:00+05:30",
          "2024-09-10T08:00:00+05:30",
          "2024-09-10T09:00:00+05:30"
         ],
         "y": [
          19.791647582154194,
          20.71426808590345,
          22.850325549135654,
          23.954948828670577,
          22.041475888848808,
          17.26671710553299,
          11.891039020350922,
          8.348474415163157,
          7.2933157862211635,
          7.468789503118915,
          7.404510778920796,
          7.13724082076499,
          8.172452115892401,
          11.726796256611955,
          17.07342820740772,
          21.753913885862456,
          23.5684152152668,
          22.45904524426732,
          20.46292466701405,
          19.783302015130776,
          20.85342198166365,
          22.236632612408705,
          22.35769409465881,
          21.24486245906904,
          20.490503348978983,
          21.4712864317884,
          23.660990573123375,
          24.814504672695694,
          22.944955583546673,
          18.208891690694156,
          12.866370542853055,
          9.3511548502019,
          8.317392439326824,
          8.508296876950636,
          8.45352858947461,
          8.18987665748752,
          9.222825053356582,
          12.76909598673053,
          18.10204474688416,
          22.76355594491845,
          24.554139192808123,
          23.416199131715253,
          21.38709077484672,
          20.67032036392903,
          21.699494407979387,
          23.03842721150348,
          23.112369886952653,
          21.95001367893818
         ]
        },
        {
         "connectgaps": true,
         "hovertemplate": "Temp: %{text}°C<extra></extra>",
         "legendgroup": "CA",
         "line": {
          "color": "#FF7F50",
          "dash": "solid",
          "shape": "spline",
          "width": 3
         },
         "marker": {
          "color": "#FFFF00",
          "line": {
           "color": "black",
           "width": 1
          },
          "size": 4
         },
         "mode": "lines+markers",
         "name": "Temperature °C",
         "showlegend": true,
         "text": [
          "27.60",
          "27.30",
          "26.90",
          "26.20",
          "25.50",
          "24.90",
          "24.50",
          "24.20",
          "23.90",
          "23.60",
          "23.40",
          "23.20",
          "22.20",
          "22.20",
          "22.10",
          "22.70",
          "23.30",
          "23.80",
          "23.80",
          "24.90",
          "26.00",
          "27.90",
          "28.90",
          "28.90",
          "27.90",
          "26.90",
          "25.90",
          "24.90",
          "24.90",
          "24.90",
          "23.90",
          "23.90",
          "22.90",
          "22.90",
          "22.90",
          "22.90",
          "23.30",
          "23.00",
          "22.80",
          "23.30",
          "23.90",
          "24.50",
          "25.97",
          "27.81",
          "29.11",
          "29.88",
          "30.26",
          "30.28"
         ],
         "type": "scatter",
         "x": [
          "2024-09-08T10:00:00+05:30",
          "2024-09-08T11:00:00+05:30",
          "2024-09-08T12:00:00+05:30",
          "2024-09-08T13:00:00+05:30",
          "2024-09-08T14:00:00+05:30",
          "2024-09-08T15:00:00+05:30",
          "2024-09-08T16:00:00+05:30",
          "2024-09-08T17:00:00+05:30",
          "2024-09-08T18:00:00+05:30",
          "2024-09-08T19:00:00+05:30",
          "2024-09-08T20:00:00+05:30",
          "2024-09-08T21:00:00+05:30",
          "2024-09-08T22:00:00+05:30",
          "2024-09-08T23:00:00+05:30",
          "2024-09-09T00:00:00+05:30",
          "2024-09-09T01:00:00+05:30",
          "2024-09-09T02:00:00+05:30",
          "2024-09-09T03:00:00+05:30",
          "2024-09-09T04:00:00+05:30",
          "2024-09-09T05:00:00+05:30",
          "2024-09-09T06:00:00+05:30",
          "2024-09-09T07:00:00+05:30",
          "2024-09-09T08:00:00+05:30",
          "2024-09-09T09:00:00+05:30",
          "2024-09-09T10:00:00+05:30",
          "2024-09-09T11:00:00+05:30",
          "2024-09-09T12:00:00+05:30",
          "2024-09-09T13:00:00+05:30",
          "2024-09-09T14:00:00+05:30",
          "2024-09-09T15:00:00+05:30",
          "2024-09-09T16:00:00+05:30",
          "2024-09-09T17:00:00+05:30",
          "2024-09-09T18:00:00+05:30",
          "2024-09-09T19:00:00+05:30",
          "2024-09-09T20:00:00+05:30",
          "2024-09-09T21:00:00+05:30",
          "2024-09-09T22:00:00+05:30",
          "2024-09-09T23:00:00+05:30",
          "2024-09-10T00:00:00+05:30",
          "2024-09-10T01:00:00+05:30",
          "2024-09-10T02:00:00+05:30",
          "2024-09-10T03:00:00+05:30",
          "2024-09-10T04:00:00+05:30",
          "2024-09-10T05:00:00+05:30",
          "2024-09-10T06:00:00+05:30",
          "2024-09-10T07:00:00+05:30",
          "2024-09-10T08:00:00+05:30",
          "2024-09-10T09:00:00+05:30"
         ],
         "y": [
          27.6,
          27.3,
          26.9,
          26.2,
          25.5,
          24.9,
          24.5,
          24.2,
          23.9,
          23.6,
          23.4,
          23.2,
          22.2,
          22.2,
          22.1,
          22.7,
          23.3,
          23.8,
          23.8,
          24.9,
          26,
          27.9,
          28.9,
          28.9,
          27.9,
          26.9,
          25.9,
          24.9,
          24.9,
          24.9,
          23.9,
          23.9,
          22.9,
          22.9,
          22.9,
          22.9,
          23.3,
          23,
          22.8,
          23.3,
          23.9,
          24.5,
          25.968371959782136,
          27.81193078823649,
          29.105808142906675,
          29.883066712702583,
          30.261954911453515,
          30.275467250543386
         ]
        }
       ],
       "layout": {
        "hovermode": "x unified",
        "template": {
         "data": {
          "bar": [
           {
            "error_x": {
             "color": "#2a3f5f"
            },
            "error_y": {
             "color": "#2a3f5f"
            },
            "marker": {
             "line": {
              "color": "#E5ECF6",
              "width": 0.5
             },
             "pattern": {
              "fillmode": "overlay",
              "size": 10,
              "solidity": 0.2
             }
            },
            "type": "bar"
           }
          ],
          "barpolar": [
           {
            "marker": {
             "line": {
              "color": "#E5ECF6",
              "width": 0.5
             },
             "pattern": {
              "fillmode": "overlay",
              "size": 10,
              "solidity": 0.2
             }
            },
            "type": "barpolar"
           }
          ],
          "carpet": [
           {
            "aaxis": {
             "endlinecolor": "#2a3f5f",
             "gridcolor": "white",
             "linecolor": "white",
             "minorgridcolor": "white",
             "startlinecolor": "#2a3f5f"
            },
            "baxis": {
             "endlinecolor": "#2a3f5f",
             "gridcolor": "white",
             "linecolor": "white",
             "minorgridcolor": "white",
             "startlinecolor": "#2a3f5f"
            },
            "type": "carpet"
           }
          ],
          "choropleth": [
           {
            "colorbar": {
             "outlinewidth": 0,
             "ticks": ""
            },
            "type": "choropleth"
           }
          ],
          "contour": [
           {
            "colorbar": {
             "outlinewidth": 0,
             "ticks": ""
            },
            "colorscale": [
             [
              0,
              "#0d0887"
             ],
             [
              0.1111111111111111,
              "#46039f"
             ],
             [
              0.2222222222222222,
              "#7201a8"
             ],
             [
              0.3333333333333333,
              "#9c179e"
             ],
             [
              0.4444444444444444,
              "#bd3786"
             ],
             [
              0.5555555555555556,
              "#d8576b"
             ],
             [
              0.6666666666666666,
              "#ed7953"
             ],
             [
              0.7777777777777778,
              "#fb9f3a"
             ],
             [
              0.8888888888888888,
              "#fdca26"
             ],
             [
              1,
              "#f0f921"
             ]
            ],
            "type": "contour"
           }
          ],
          "contourcarpet": [
           {
            "colorbar": {
             "outlinewidth": 0,
             "ticks": ""
            },
            "type": "contourcarpet"
           }
          ],
          "heatmap": [
           {
            "colorbar": {
             "outlinewidth": 0,
             "ticks": ""
            },
            "colorscale": [
             [
              0,
              "#0d0887"
             ],
             [
              0.1111111111111111,
              "#46039f"
             ],
             [
              0.2222222222222222,
              "#7201a8"
             ],
             [
              0.3333333333333333,
              "#9c179e"
             ],
             [
              0.4444444444444444,
              "#bd3786"
             ],
             [
              0.5555555555555556,
              "#d8576b"
             ],
             [
              0.6666666666666666,
              "#ed7953"
             ],
             [
              0.7777777777777778,
              "#fb9f3a"
             ],
             [
              0.8888888888888888,
              "#fdca26"
             ],
             [
              1,
              "#f0f921"
             ]
            ],
            "type": "heatmap"
           }
          ],
          "heatmapgl": [
           {
            "colorbar": {
             "outlinewidth": 0,
             "ticks": ""
            },
            "colorscale": [
             [
              0,
              "#0d0887"
             ],
             [
              0.1111111111111111,
              "#46039f"
             ],
             [
              0.2222222222222222,
              "#7201a8"
             ],
             [
              0.3333333333333333,
              "#9c179e"
             ],
             [
              0.4444444444444444,
              "#bd3786"
             ],
             [
              0.5555555555555556,
              "#d8576b"
             ],
             [
              0.6666666666666666,
              "#ed7953"
             ],
             [
              0.7777777777777778,
              "#fb9f3a"
             ],
             [
              0.8888888888888888,
              "#fdca26"
             ],
             [
              1,
              "#f0f921"
             ]
            ],
            "type": "heatmapgl"
           }
          ],
          "histogram": [
           {
            "marker": {
             "pattern": {
              "fillmode": "overlay",
              "size": 10,
              "solidity": 0.2
             }
            },
            "type": "histogram"
           }
          ],
          "histogram2d": [
           {
            "colorbar": {
             "outlinewidth": 0,
             "ticks": ""
            },
            "colorscale": [
             [
              0,
              "#0d0887"
             ],
             [
              0.1111111111111111,
              "#46039f"
             ],
             [
              0.2222222222222222,
              "#7201a8"
             ],
             [
              0.3333333333333333,
              "#9c179e"
             ],
             [
              0.4444444444444444,
              "#bd3786"
             ],
             [
              0.5555555555555556,
              "#d8576b"
             ],
             [
              0.6666666666666666,
              "#ed7953"
             ],
             [
              0.7777777777777778,
              "#fb9f3a"
             ],
             [
              0.8888888888888888,
              "#fdca26"
             ],
             [
              1,
              "#f0f921"
             ]
            ],
            "type": "histogram2d"
           }
          ],
          "histogram2dcontour": [
           {
            "colorbar": {
             "outlinewidth": 0,
             "ticks": ""
            },
            "colorscale": [
             [
              0,
              "#0d0887"
             ],
             [
              0.1111111111111111,
              "#46039f"
             ],
             [
              0.2222222222222222,
              "#7201a8"
             ],
             [
              0.3333333333333333,
              "#9c179e"
             ],
             [
              0.4444444444444444,
              "#bd3786"
             ],
             [
              0.5555555555555556,
              "#d8576b"
             ],
             [
              0.6666666666666666,
              "#ed7953"
             ],
             [
              0.7777777777777778,
              "#fb9f3a"
             ],
             [
              0.8888888888888888,
              "#fdca26"
             ],
             [
              1,
              "#f0f921"
             ]
            ],
            "type": "histogram2dcontour"
           }
          ],
          "mesh3d": [
           {
            "colorbar": {
             "outlinewidth": 0,
             "ticks": ""
            },
            "type": "mesh3d"
           }
          ],
          "parcoords": [
           {
            "line": {
             "colorbar": {
              "outlinewidth": 0,
              "ticks": ""
             }
            },
            "type": "parcoords"
           }
          ],
          "pie": [
           {
            "automargin": true,
            "type": "pie"
           }
          ],
          "scatter": [
           {
            "fillpattern": {
             "fillmode": "overlay",
             "size": 10,
             "solidity": 0.2
            },
            "type": "scatter"
           }
          ],
          "scatter3d": [
           {
            "line": {
             "colorbar": {
              "outlinewidth": 0,
              "ticks": ""
             }
            },
            "marker": {
             "colorbar": {
              "outlinewidth": 0,
              "ticks": ""
             }
            },
            "type": "scatter3d"
           }
          ],
          "scattercarpet": [
           {
            "marker": {
             "colorbar": {
              "outlinewidth": 0,
              "ticks": ""
             }
            },
            "type": "scattercarpet"
           }
          ],
          "scattergeo": [
           {
            "marker": {
             "colorbar": {
              "outlinewidth": 0,
              "ticks": ""
             }
            },
            "type": "scattergeo"
           }
          ],
          "scattergl": [
           {
            "marker": {
             "colorbar": {
              "outlinewidth": 0,
              "ticks": ""
             }
            },
            "type": "scattergl"
           }
          ],
          "scattermapbox": [
           {
            "marker": {
             "colorbar": {
              "outlinewidth": 0,
              "ticks": ""
             }
            },
            "type": "scattermapbox"
           }
          ],
          "scatterpolar": [
           {
            "marker": {
             "colorbar": {
              "outlinewidth": 0,
              "ticks": ""
             }
            },
            "type": "scatterpolar"
           }
          ],
          "scatterpolargl": [
           {
            "marker": {
             "colorbar": {
              "outlinewidth": 0,
              "ticks": ""
             }
            },
            "type": "scatterpolargl"
           }
          ],
          "scatterternary": [
           {
            "marker": {
             "colorbar": {
              "outlinewidth": 0,
              "ticks": ""
             }
            },
            "type": "scatterternary"
           }
          ],
          "surface": [
           {
            "colorbar": {
             "outlinewidth": 0,
             "ticks": ""
            },
            "colorscale": [
             [
              0,
              "#0d0887"
             ],
             [
              0.1111111111111111,
              "#46039f"
             ],
             [
              0.2222222222222222,
              "#7201a8"
             ],
             [
              0.3333333333333333,
              "#9c179e"
             ],
             [
              0.4444444444444444,
              "#bd3786"
             ],
             [
              0.5555555555555556,
              "#d8576b"
             ],
             [
              0.6666666666666666,
              "#ed7953"
             ],
             [
              0.7777777777777778,
              "#fb9f3a"
             ],
             [
              0.8888888888888888,
              "#fdca26"
             ],
             [
              1,
              "#f0f921"
             ]
            ],
            "type": "surface"
           }
          ],
          "table": [
           {
            "cells": {
             "fill": {
              "color": "#EBF0F8"
             },
             "line": {
              "color": "white"
             }
            },
            "header": {
             "fill": {
              "color": "#C8D4E3"
             },
             "line": {
              "color": "white"
             }
            },
            "type": "table"
           }
          ]
         },
         "layout": {
          "annotationdefaults": {
           "arrowcolor": "#2a3f5f",
           "arrowhead": 0,
           "arrowwidth": 1
          },
          "autotypenumbers": "strict",
          "coloraxis": {
           "colorbar": {
            "outlinewidth": 0,
            "ticks": ""
           }
          },
          "colorscale": {
           "diverging": [
            [
             0,
             "#8e0152"
            ],
            [
             0.1,
             "#c51b7d"
            ],
            [
             0.2,
             "#de77ae"
            ],
            [
             0.3,
             "#f1b6da"
            ],
            [
             0.4,
             "#fde0ef"
            ],
            [
             0.5,
             "#f7f7f7"
            ],
            [
             0.6,
             "#e6f5d0"
            ],
            [
             0.7,
             "#b8e186"
            ],
            [
             0.8,
             "#7fbc41"
            ],
            [
             0.9,
             "#4d9221"
            ],
            [
             1,
             "#276419"
            ]
           ],
           "sequential": [
            [
             0,
             "#0d0887"
            ],
            [
             0.1111111111111111,
             "#46039f"
            ],
            [
             0.2222222222222222,
             "#7201a8"
            ],
            [
             0.3333333333333333,
             "#9c179e"
            ],
            [
             0.4444444444444444,
             "#bd3786"
            ],
            [
             0.5555555555555556,
             "#d8576b"
            ],
            [
             0.6666666666666666,
             "#ed7953"
            ],
            [
             0.7777777777777778,
             "#fb9f3a"
            ],
            [
             0.8888888888888888,
             "#fdca26"
            ],
            [
             1,
             "#f0f921"
            ]
           ],
           "sequentialminus": [
            [
             0,
             "#0d0887"
            ],
            [
             0.1111111111111111,
             "#46039f"
            ],
            [
             0.2222222222222222,
             "#7201a8"
            ],
            [
             0.3333333333333333,
             "#9c179e"
            ],
            [
             0.4444444444444444,
             "#bd3786"
            ],
            [
             0.5555555555555556,
             "#d8576b"
            ],
            [
             0.6666666666666666,
             "#ed7953"
            ],
            [
             0.7777777777777778,
             "#fb9f3a"
            ],
            [
             0.8888888888888888,
             "#fdca26"
            ],
            [
             1,
             "#f0f921"
            ]
           ]
          },
          "colorway": [
           "#636efa",
           "#EF553B",
           "#00cc96",
           "#ab63fa",
           "#FFA15A",
           "#19d3f3",
           "#FF6692",
           "#B6E880",
           "#FF97FF",
           "#FECB52"
          ],
          "font": {
           "color": "#2a3f5f"
          },
          "geo": {
           "bgcolor": "white",
           "lakecolor": "white",
           "landcolor": "#E5ECF6",
           "showlakes": true,
           "showland": true,
           "subunitcolor": "white"
          },
          "hoverlabel": {
           "align": "left"
          },
          "hovermode": "closest",
          "mapbox": {
           "style": "light"
          },
          "paper_bgcolor": "white",
          "plot_bgcolor": "#E5ECF6",
          "polar": {
           "angularaxis": {
            "gridcolor": "white",
            "linecolor": "white",
            "ticks": ""
           },
           "bgcolor": "#E5ECF6",
           "radialaxis": {
            "gridcolor": "white",
            "linecolor": "white",
            "ticks": ""
           }
          },
          "scene": {
           "xaxis": {
            "backgroundcolor": "#E5ECF6",
            "gridcolor": "white",
            "gridwidth": 2,
            "linecolor": "white",
            "showbackground": true,
            "ticks": "",
            "zerolinecolor": "white"
           },
           "yaxis": {
            "backgroundcolor": "#E5ECF6",
            "gridcolor": "white",
            "gridwidth": 2,
            "linecolor": "white",
            "showbackground": true,
            "ticks": "",
            "zerolinecolor": "white"
           },
           "zaxis": {
            "backgroundcolor": "#E5ECF6",
            "gridcolor": "white",
            "gridwidth": 2,
            "linecolor": "white",
            "showbackground": true,
            "ticks": "",
            "zerolinecolor": "white"
           }
          },
          "shapedefaults": {
           "line": {
            "color": "#2a3f5f"
           }
          },
          "ternary": {
           "aaxis": {
            "gridcolor": "white",
            "linecolor": "white",
            "ticks": ""
           },
           "baxis": {
            "gridcolor": "white",
            "linecolor": "white",
            "ticks": ""
           },
           "bgcolor": "#E5ECF6",
           "caxis": {
            "gridcolor": "white",
            "linecolor": "white",
            "ticks": ""
           }
          },
          "title": {
           "x": 0.05
          },
          "xaxis": {
           "automargin": true,
           "gridcolor": "white",
           "linecolor": "white",
           "ticks": "",
           "title": {
            "standoff": 15
           },
           "zerolinecolor": "white",
           "zerolinewidth": 2
          },
          "yaxis": {
           "automargin": true,
           "gridcolor": "white",
           "linecolor": "white",
           "ticks": "",
           "title": {
            "standoff": 15
           },
           "zerolinecolor": "white",
           "zerolinewidth": 2
          }
         }
        },
        "title": {
         "text": "Hourly Consumption and Temperature"
        },
        "xaxis": {
         "title": {
          "text": "Date and Time"
         }
        },
        "yaxis": {
         "title": {
          "text": "Consumption (kWh) / Temperature (°C)"
         }
        }
       }
      }
     },
     "metadata": {},
     "output_type": "display_data"
    }
   ],
   "source": [
    "import plotly.graph_objects as go\n",
    "\n",
    "fig_hourly = go.Figure()\n",
    "\n",
    "# Add the bar trace\n",
    "fig_hourly.add_trace(\n",
    "    go.Bar(\n",
    "        x=historical_data[\"ds\"],\n",
    "        y=historical_data[\"y\"],\n",
    "        hovertemplate='<span style=\"text-align:left;font-family:Mulish;\"></span><br><b>Date: </b>%{x|%d %b %Y}, %{x|%I %p}<br><b>Consumption </b>: %{y:.2f} kWh <br><b>Cost</b>: %{customdata:.2f}',\n",
    "        customdata=historical_data[\"y\"]*cost_per_kw,\n",
    "        name=\"Actual Consumption\",\n",
    "        marker=dict(color=\"#2275e0\"),\n",
    "    )\n",
    ")\n",
    "\n",
    "# Add the scatter trace\n",
    "fig_hourly.add_trace(\n",
    "    go.Scatter(\n",
    "        x=before_current_time[\"ds\"],\n",
    "        y=before_current_time[\"y\"],\n",
    "        mode=\"lines+markers\",\n",
    "        name=\"Temperature °C\",\n",
    "        showlegend=True,\n",
    "        legendgroup=\"CA\",\n",
    "        line=dict(color=\"#FF7F50\", width=3, dash=\"solid\", shape=\"spline\"),\n",
    "        marker=dict(color=\"#FFFF00\", size=4, line=dict(color=\"black\", width=1)),\n",
    "        connectgaps=True,\n",
    "        text=[f\"{y:.2f}\" for y in before_current_time[\"y\"]],\n",
    "        hovertemplate=\"Temp: %{text}°C<extra></extra>\"\n",
    "    )\n",
    ")\n",
    "\n",
    "# Update layout for better visualization\n",
    "fig_hourly.update_layout(\n",
    "    title=\"Hourly Consumption and Temperature\",\n",
    "    xaxis_title=\"Date and Time\",\n",
    "    yaxis_title=\"Consumption (kWh) / Temperature (°C)\",\n",
    "    hovermode=\"x unified\"\n",
    ")\n",
    "\n",
    "\n",
    "fig_hourly.show()\n"
   ]
  },
  {
   "cell_type": "code",
   "execution_count": null,
   "metadata": {},
   "outputs": [],
   "source": [
    "YOY,MOM,"
   ]
  },
  {
   "cell_type": "code",
   "execution_count": null,
   "metadata": {},
   "outputs": [],
   "source": [
    "\n"
   ]
  },
  {
   "cell_type": "markdown",
   "metadata": {},
   "source": [
    "#### ________________\n",
    "\n",
    "> - sources of energy     ==>     trend ,emision, ,percent ,progess, cost .predict\n",
    "> - potential savings     ==>     \n",
    "\n",
    "\n"
   ]
  },
  {
   "cell_type": "code",
   "execution_count": 6,
   "metadata": {},
   "outputs": [],
   "source": [
    "\n",
    "    df_daily[\"ds\"] = pd.to_datetime(df_daily[\"ds\"])\n",
    "    if df_daily[\"ds\"].dt.tz is None:\n",
    "        df_daily[\"ds\"] = df_daily[\"ds\"].dt.tz_localize(tz)\n",
    "    else:\n",
    "        df_daily[\"ds\"] = df_daily[\"ds\"].dt.tz_convert(tz)\n",
    "\n",
    "    historical_data_daily = df_daily[\n",
    "        (df_daily[\"ds\"].dt.date >= (current_time - pd.Timedelta(days=13)).date())\n",
    "        & (df_daily[\"ds\"].dt.date <= current_time.date())\n",
    "    ]\n",
    "\n",
    "    next_7_days_end = current_time + timedelta(days=7)\n",
    "    next_7_days_end = pd.Timestamp(next_7_days_end.replace(hour=23, minute=59, second=59, microsecond=999999)).tz_convert(tz)\n",
    "    forecasted_bar_data_daily = df_daily[\n",
    "        (df_daily[\"ds\"] > current_time_dt64) & (df_daily[\"ds\"] <= next_7_days_end)\n",
    "    ]\n",
    "\n",
    "        \n",
    "    end_of_week = current_time + timedelta(days=(6 - current_time.weekday()))\n",
    "\n",
    "\n",
    "    next_7_days_end = end_of_week + timedelta(days=7)\n",
    "\n",
    "    forecasted_bar_data_daily = df_daily[\n",
    "        (df_daily[\"ds\"] > current_time_dt64) & (df_daily[\"ds\"] <= next_7_days_end)\n",
    "    ]\n",
    "\n",
    "    forecasted_data_week_end = df_daily[\n",
    "        (df_daily[\"ds\"] > current_time_dt64) & (df_daily[\"ds\"] <= end_of_week)]\n"
   ]
  },
  {
   "cell_type": "code",
   "execution_count": 7,
   "metadata": {},
   "outputs": [],
   "source": [
    "    \n",
    "    total_day = pd.concat([historical_data_daily, forecasted_data_week_end])\n",
    "    max_value = total_day[\"y\"].max()\n",
    "    max_date = total_day.loc[total_day[\"y\"].idxmax(),\n",
    "                            \"ds\"].strftime(\"%d %b %Y\")\n",
    "    min_value = total_day[\"y\"].min()\n",
    "    min_date = total_day.loc[total_day[\"y\"].idxmin(),\n",
    "                            \"ds\"].strftime(\"%d %b %Y\")\n",
    "    total_average = total_day[\"y\"].mean()\n",
    "    # Ensure timestamps are localized or converted appropriately\n",
    "    dz_day[\"ds\"] = pd.to_datetime(dz_day[\"ds\"])\n",
    "    if dz_day[\"ds\"].dt.tz is None:\n",
    "        dz_day[\"ds\"] = dz_day[\"ds\"].dt.tz_localize(tz)\n",
    "    else:\n",
    "        dz_day[\"ds\"] = dz_day[\"ds\"].dt.tz_convert(tz)\n",
    "\n",
    "    # Assuming dz_day[\"ds\"] is tz-aware\n",
    "    start_time = pd.Timestamp.today(tz) - pd.Timedelta(days=13)\n",
    "    end_time = next_7_days_end\n",
    "\n",
    "    combined_temp_data_11 = dz_day[(dz_day[\"ds\"] >= start_time) & (dz_day[\"ds\"] <= end_time)]\n",
    "    before_current_time1 = combined_temp_data_11[combined_temp_data_11[\"ds\"] <= pd.Timestamp.today(tz)]\n",
    "    after_current_time1 = combined_temp_data_11[combined_temp_data_11[\"ds\"] > pd.Timestamp.today(tz)]\n",
    "\n"
   ]
  },
  {
   "cell_type": "code",
   "execution_count": 10,
   "metadata": {},
   "outputs": [
    {
     "data": {
      "application/vnd.plotly.v1+json": {
       "config": {
        "plotlyServerURL": "https://plot.ly"
       },
       "data": [
        {
         "customdata": [
          2620.2776162510345,
          2620.514669719519,
          2626.72308976109,
          2564.2979062942527,
          2465.6541892759533,
          2565.0591344060135,
          2645.6959021660796,
          2619.477369199276,
          2619.714315327136,
          2625.9208042012538,
          2563.5146534140235,
          2464.9010337726327,
          2564.2755803109458,
          2644.887680627032
         ],
         "hovertemplate": "<span style=\"text-align:left;font-family:Mulish;\"></span><br><b>Date: </b>%{x|%d %b %Y}, %{x|%I %p}<br><b>Consumption </b>: %{y:.2f} kWh <br><b>Cost</b>: %{customdata:.2f}",
         "marker": {
          "color": "#2275e0"
         },
         "name": "Actual Consumption",
         "type": "bar",
         "x": [
          "2024-08-28T00:00:00+05:30",
          "2024-08-29T00:00:00+05:30",
          "2024-08-30T00:00:00+05:30",
          "2024-08-31T00:00:00+05:30",
          "2024-09-01T00:00:00+05:30",
          "2024-09-02T00:00:00+05:30",
          "2024-09-03T00:00:00+05:30",
          "2024-09-04T00:00:00+05:30",
          "2024-09-05T00:00:00+05:30",
          "2024-09-06T00:00:00+05:30",
          "2024-09-07T00:00:00+05:30",
          "2024-09-08T00:00:00+05:30",
          "2024-09-09T00:00:00+05:30",
          "2024-09-10T00:00:00+05:30"
         ],
         "y": [
          430.2590502875262,
          430.29797532340217,
          431.31742032201805,
          421.0669796870694,
          404.8693250042616,
          421.19197609294145,
          434.4328246578127,
          430.1276468307514,
          430.166554240909,
          431.18568213485287,
          420.93836673465086,
          404.7456541498576,
          421.06331367995824,
          434.3001117614174
         ]
        },
        {
         "connectgaps": true,
         "hovertemplate": "Temp: %{text}°C<extra></extra>",
         "legendgroup": "CA",
         "line": {
          "color": "#FF7F50",
          "dash": "solid",
          "shape": "spline",
          "width": 3
         },
         "marker": {
          "color": "#FFFF00",
          "line": {
           "color": "black",
           "width": 1
          },
          "size": 4
         },
         "mode": "lines+markers",
         "name": "Temperature °C",
         "showlegend": true,
         "text": [
          "22.93",
          "22.92",
          "22.88",
          "22.83",
          "22.78",
          "22.79",
          "22.80",
          "22.75",
          "22.76",
          "22.74",
          "24.90",
          "25.30",
          "26.40"
         ],
         "type": "scatter",
         "x": [
          "2024-08-29T00:00:00+05:30",
          "2024-08-30T00:00:00+05:30",
          "2024-08-31T00:00:00+05:30",
          "2024-09-01T00:00:00+05:30",
          "2024-09-02T00:00:00+05:30",
          "2024-09-03T00:00:00+05:30",
          "2024-09-04T00:00:00+05:30",
          "2024-09-05T00:00:00+05:30",
          "2024-09-06T00:00:00+05:30",
          "2024-09-07T00:00:00+05:30",
          "2024-09-08T00:00:00+05:30",
          "2024-09-09T00:00:00+05:30",
          "2024-09-10T00:00:00+05:30"
         ],
         "y": [
          22.929352387796154,
          22.92018668192383,
          22.876719543589893,
          22.830322473328927,
          22.780169944632878,
          22.787406588571372,
          22.804984465550604,
          22.746253857713675,
          22.759061098257565,
          22.737604504141864,
          24.9,
          25.3,
          26.4
         ]
        }
       ],
       "layout": {
        "hovermode": "x unified",
        "template": {
         "data": {
          "bar": [
           {
            "error_x": {
             "color": "#2a3f5f"
            },
            "error_y": {
             "color": "#2a3f5f"
            },
            "marker": {
             "line": {
              "color": "#E5ECF6",
              "width": 0.5
             },
             "pattern": {
              "fillmode": "overlay",
              "size": 10,
              "solidity": 0.2
             }
            },
            "type": "bar"
           }
          ],
          "barpolar": [
           {
            "marker": {
             "line": {
              "color": "#E5ECF6",
              "width": 0.5
             },
             "pattern": {
              "fillmode": "overlay",
              "size": 10,
              "solidity": 0.2
             }
            },
            "type": "barpolar"
           }
          ],
          "carpet": [
           {
            "aaxis": {
             "endlinecolor": "#2a3f5f",
             "gridcolor": "white",
             "linecolor": "white",
             "minorgridcolor": "white",
             "startlinecolor": "#2a3f5f"
            },
            "baxis": {
             "endlinecolor": "#2a3f5f",
             "gridcolor": "white",
             "linecolor": "white",
             "minorgridcolor": "white",
             "startlinecolor": "#2a3f5f"
            },
            "type": "carpet"
           }
          ],
          "choropleth": [
           {
            "colorbar": {
             "outlinewidth": 0,
             "ticks": ""
            },
            "type": "choropleth"
           }
          ],
          "contour": [
           {
            "colorbar": {
             "outlinewidth": 0,
             "ticks": ""
            },
            "colorscale": [
             [
              0,
              "#0d0887"
             ],
             [
              0.1111111111111111,
              "#46039f"
             ],
             [
              0.2222222222222222,
              "#7201a8"
             ],
             [
              0.3333333333333333,
              "#9c179e"
             ],
             [
              0.4444444444444444,
              "#bd3786"
             ],
             [
              0.5555555555555556,
              "#d8576b"
             ],
             [
              0.6666666666666666,
              "#ed7953"
             ],
             [
              0.7777777777777778,
              "#fb9f3a"
             ],
             [
              0.8888888888888888,
              "#fdca26"
             ],
             [
              1,
              "#f0f921"
             ]
            ],
            "type": "contour"
           }
          ],
          "contourcarpet": [
           {
            "colorbar": {
             "outlinewidth": 0,
             "ticks": ""
            },
            "type": "contourcarpet"
           }
          ],
          "heatmap": [
           {
            "colorbar": {
             "outlinewidth": 0,
             "ticks": ""
            },
            "colorscale": [
             [
              0,
              "#0d0887"
             ],
             [
              0.1111111111111111,
              "#46039f"
             ],
             [
              0.2222222222222222,
              "#7201a8"
             ],
             [
              0.3333333333333333,
              "#9c179e"
             ],
             [
              0.4444444444444444,
              "#bd3786"
             ],
             [
              0.5555555555555556,
              "#d8576b"
             ],
             [
              0.6666666666666666,
              "#ed7953"
             ],
             [
              0.7777777777777778,
              "#fb9f3a"
             ],
             [
              0.8888888888888888,
              "#fdca26"
             ],
             [
              1,
              "#f0f921"
             ]
            ],
            "type": "heatmap"
           }
          ],
          "heatmapgl": [
           {
            "colorbar": {
             "outlinewidth": 0,
             "ticks": ""
            },
            "colorscale": [
             [
              0,
              "#0d0887"
             ],
             [
              0.1111111111111111,
              "#46039f"
             ],
             [
              0.2222222222222222,
              "#7201a8"
             ],
             [
              0.3333333333333333,
              "#9c179e"
             ],
             [
              0.4444444444444444,
              "#bd3786"
             ],
             [
              0.5555555555555556,
              "#d8576b"
             ],
             [
              0.6666666666666666,
              "#ed7953"
             ],
             [
              0.7777777777777778,
              "#fb9f3a"
             ],
             [
              0.8888888888888888,
              "#fdca26"
             ],
             [
              1,
              "#f0f921"
             ]
            ],
            "type": "heatmapgl"
           }
          ],
          "histogram": [
           {
            "marker": {
             "pattern": {
              "fillmode": "overlay",
              "size": 10,
              "solidity": 0.2
             }
            },
            "type": "histogram"
           }
          ],
          "histogram2d": [
           {
            "colorbar": {
             "outlinewidth": 0,
             "ticks": ""
            },
            "colorscale": [
             [
              0,
              "#0d0887"
             ],
             [
              0.1111111111111111,
              "#46039f"
             ],
             [
              0.2222222222222222,
              "#7201a8"
             ],
             [
              0.3333333333333333,
              "#9c179e"
             ],
             [
              0.4444444444444444,
              "#bd3786"
             ],
             [
              0.5555555555555556,
              "#d8576b"
             ],
             [
              0.6666666666666666,
              "#ed7953"
             ],
             [
              0.7777777777777778,
              "#fb9f3a"
             ],
             [
              0.8888888888888888,
              "#fdca26"
             ],
             [
              1,
              "#f0f921"
             ]
            ],
            "type": "histogram2d"
           }
          ],
          "histogram2dcontour": [
           {
            "colorbar": {
             "outlinewidth": 0,
             "ticks": ""
            },
            "colorscale": [
             [
              0,
              "#0d0887"
             ],
             [
              0.1111111111111111,
              "#46039f"
             ],
             [
              0.2222222222222222,
              "#7201a8"
             ],
             [
              0.3333333333333333,
              "#9c179e"
             ],
             [
              0.4444444444444444,
              "#bd3786"
             ],
             [
              0.5555555555555556,
              "#d8576b"
             ],
             [
              0.6666666666666666,
              "#ed7953"
             ],
             [
              0.7777777777777778,
              "#fb9f3a"
             ],
             [
              0.8888888888888888,
              "#fdca26"
             ],
             [
              1,
              "#f0f921"
             ]
            ],
            "type": "histogram2dcontour"
           }
          ],
          "mesh3d": [
           {
            "colorbar": {
             "outlinewidth": 0,
             "ticks": ""
            },
            "type": "mesh3d"
           }
          ],
          "parcoords": [
           {
            "line": {
             "colorbar": {
              "outlinewidth": 0,
              "ticks": ""
             }
            },
            "type": "parcoords"
           }
          ],
          "pie": [
           {
            "automargin": true,
            "type": "pie"
           }
          ],
          "scatter": [
           {
            "fillpattern": {
             "fillmode": "overlay",
             "size": 10,
             "solidity": 0.2
            },
            "type": "scatter"
           }
          ],
          "scatter3d": [
           {
            "line": {
             "colorbar": {
              "outlinewidth": 0,
              "ticks": ""
             }
            },
            "marker": {
             "colorbar": {
              "outlinewidth": 0,
              "ticks": ""
             }
            },
            "type": "scatter3d"
           }
          ],
          "scattercarpet": [
           {
            "marker": {
             "colorbar": {
              "outlinewidth": 0,
              "ticks": ""
             }
            },
            "type": "scattercarpet"
           }
          ],
          "scattergeo": [
           {
            "marker": {
             "colorbar": {
              "outlinewidth": 0,
              "ticks": ""
             }
            },
            "type": "scattergeo"
           }
          ],
          "scattergl": [
           {
            "marker": {
             "colorbar": {
              "outlinewidth": 0,
              "ticks": ""
             }
            },
            "type": "scattergl"
           }
          ],
          "scattermapbox": [
           {
            "marker": {
             "colorbar": {
              "outlinewidth": 0,
              "ticks": ""
             }
            },
            "type": "scattermapbox"
           }
          ],
          "scatterpolar": [
           {
            "marker": {
             "colorbar": {
              "outlinewidth": 0,
              "ticks": ""
             }
            },
            "type": "scatterpolar"
           }
          ],
          "scatterpolargl": [
           {
            "marker": {
             "colorbar": {
              "outlinewidth": 0,
              "ticks": ""
             }
            },
            "type": "scatterpolargl"
           }
          ],
          "scatterternary": [
           {
            "marker": {
             "colorbar": {
              "outlinewidth": 0,
              "ticks": ""
             }
            },
            "type": "scatterternary"
           }
          ],
          "surface": [
           {
            "colorbar": {
             "outlinewidth": 0,
             "ticks": ""
            },
            "colorscale": [
             [
              0,
              "#0d0887"
             ],
             [
              0.1111111111111111,
              "#46039f"
             ],
             [
              0.2222222222222222,
              "#7201a8"
             ],
             [
              0.3333333333333333,
              "#9c179e"
             ],
             [
              0.4444444444444444,
              "#bd3786"
             ],
             [
              0.5555555555555556,
              "#d8576b"
             ],
             [
              0.6666666666666666,
              "#ed7953"
             ],
             [
              0.7777777777777778,
              "#fb9f3a"
             ],
             [
              0.8888888888888888,
              "#fdca26"
             ],
             [
              1,
              "#f0f921"
             ]
            ],
            "type": "surface"
           }
          ],
          "table": [
           {
            "cells": {
             "fill": {
              "color": "#EBF0F8"
             },
             "line": {
              "color": "white"
             }
            },
            "header": {
             "fill": {
              "color": "#C8D4E3"
             },
             "line": {
              "color": "white"
             }
            },
            "type": "table"
           }
          ]
         },
         "layout": {
          "annotationdefaults": {
           "arrowcolor": "#2a3f5f",
           "arrowhead": 0,
           "arrowwidth": 1
          },
          "autotypenumbers": "strict",
          "coloraxis": {
           "colorbar": {
            "outlinewidth": 0,
            "ticks": ""
           }
          },
          "colorscale": {
           "diverging": [
            [
             0,
             "#8e0152"
            ],
            [
             0.1,
             "#c51b7d"
            ],
            [
             0.2,
             "#de77ae"
            ],
            [
             0.3,
             "#f1b6da"
            ],
            [
             0.4,
             "#fde0ef"
            ],
            [
             0.5,
             "#f7f7f7"
            ],
            [
             0.6,
             "#e6f5d0"
            ],
            [
             0.7,
             "#b8e186"
            ],
            [
             0.8,
             "#7fbc41"
            ],
            [
             0.9,
             "#4d9221"
            ],
            [
             1,
             "#276419"
            ]
           ],
           "sequential": [
            [
             0,
             "#0d0887"
            ],
            [
             0.1111111111111111,
             "#46039f"
            ],
            [
             0.2222222222222222,
             "#7201a8"
            ],
            [
             0.3333333333333333,
             "#9c179e"
            ],
            [
             0.4444444444444444,
             "#bd3786"
            ],
            [
             0.5555555555555556,
             "#d8576b"
            ],
            [
             0.6666666666666666,
             "#ed7953"
            ],
            [
             0.7777777777777778,
             "#fb9f3a"
            ],
            [
             0.8888888888888888,
             "#fdca26"
            ],
            [
             1,
             "#f0f921"
            ]
           ],
           "sequentialminus": [
            [
             0,
             "#0d0887"
            ],
            [
             0.1111111111111111,
             "#46039f"
            ],
            [
             0.2222222222222222,
             "#7201a8"
            ],
            [
             0.3333333333333333,
             "#9c179e"
            ],
            [
             0.4444444444444444,
             "#bd3786"
            ],
            [
             0.5555555555555556,
             "#d8576b"
            ],
            [
             0.6666666666666666,
             "#ed7953"
            ],
            [
             0.7777777777777778,
             "#fb9f3a"
            ],
            [
             0.8888888888888888,
             "#fdca26"
            ],
            [
             1,
             "#f0f921"
            ]
           ]
          },
          "colorway": [
           "#636efa",
           "#EF553B",
           "#00cc96",
           "#ab63fa",
           "#FFA15A",
           "#19d3f3",
           "#FF6692",
           "#B6E880",
           "#FF97FF",
           "#FECB52"
          ],
          "font": {
           "color": "#2a3f5f"
          },
          "geo": {
           "bgcolor": "white",
           "lakecolor": "white",
           "landcolor": "#E5ECF6",
           "showlakes": true,
           "showland": true,
           "subunitcolor": "white"
          },
          "hoverlabel": {
           "align": "left"
          },
          "hovermode": "closest",
          "mapbox": {
           "style": "light"
          },
          "paper_bgcolor": "white",
          "plot_bgcolor": "#E5ECF6",
          "polar": {
           "angularaxis": {
            "gridcolor": "white",
            "linecolor": "white",
            "ticks": ""
           },
           "bgcolor": "#E5ECF6",
           "radialaxis": {
            "gridcolor": "white",
            "linecolor": "white",
            "ticks": ""
           }
          },
          "scene": {
           "xaxis": {
            "backgroundcolor": "#E5ECF6",
            "gridcolor": "white",
            "gridwidth": 2,
            "linecolor": "white",
            "showbackground": true,
            "ticks": "",
            "zerolinecolor": "white"
           },
           "yaxis": {
            "backgroundcolor": "#E5ECF6",
            "gridcolor": "white",
            "gridwidth": 2,
            "linecolor": "white",
            "showbackground": true,
            "ticks": "",
            "zerolinecolor": "white"
           },
           "zaxis": {
            "backgroundcolor": "#E5ECF6",
            "gridcolor": "white",
            "gridwidth": 2,
            "linecolor": "white",
            "showbackground": true,
            "ticks": "",
            "zerolinecolor": "white"
           }
          },
          "shapedefaults": {
           "line": {
            "color": "#2a3f5f"
           }
          },
          "ternary": {
           "aaxis": {
            "gridcolor": "white",
            "linecolor": "white",
            "ticks": ""
           },
           "baxis": {
            "gridcolor": "white",
            "linecolor": "white",
            "ticks": ""
           },
           "bgcolor": "#E5ECF6",
           "caxis": {
            "gridcolor": "white",
            "linecolor": "white",
            "ticks": ""
           }
          },
          "title": {
           "x": 0.05
          },
          "xaxis": {
           "automargin": true,
           "gridcolor": "white",
           "linecolor": "white",
           "ticks": "",
           "title": {
            "standoff": 15
           },
           "zerolinecolor": "white",
           "zerolinewidth": 2
          },
          "yaxis": {
           "automargin": true,
           "gridcolor": "white",
           "linecolor": "white",
           "ticks": "",
           "title": {
            "standoff": 15
           },
           "zerolinecolor": "white",
           "zerolinewidth": 2
          }
         }
        },
        "title": {
         "text": "Weekly Consumption and Temperature"
        },
        "xaxis": {
         "title": {
          "text": "Date and Time"
         }
        },
        "yaxis": {
         "title": {
          "text": "Consumption (kWh) / Temperature (°C)"
         }
        }
       }
      }
     },
     "metadata": {},
     "output_type": "display_data"
    }
   ],
   "source": [
    "import plotly.graph_objects as go\n",
    "\n",
    "fig_hourly = go.Figure()\n",
    "\n",
    "# Add the bar trace\n",
    "fig_hourly.add_trace(\n",
    "    go.Bar(\n",
    "        x=historical_data_daily[\"ds\"],\n",
    "        y=historical_data_daily[\"y\"],\n",
    "        hovertemplate='<span style=\"text-align:left;font-family:Mulish;\"></span><br><b>Date: </b>%{x|%d %b %Y}, %{x|%I %p}<br><b>Consumption </b>: %{y:.2f} kWh <br><b>Cost</b>: %{customdata:.2f}',\n",
    "        customdata=historical_data_daily[\"y\"]*cost_per_kw,\n",
    "        name=\"Actual Consumption\",\n",
    "        marker=dict(color=\"#2275e0\"),\n",
    "    )\n",
    ")\n",
    "\n",
    "# Add the scatter trace\n",
    "fig_hourly.add_trace(\n",
    "    go.Scatter(\n",
    "        x=before_current_time1[\"ds\"],\n",
    "        y=before_current_time1[\"y\"],\n",
    "        mode=\"lines+markers\",\n",
    "        name=\"Temperature °C\",\n",
    "        showlegend=True,\n",
    "        legendgroup=\"CA\",\n",
    "        line=dict(color=\"#FF7F50\", width=3, dash=\"solid\", shape=\"spline\"),\n",
    "        marker=dict(color=\"#FFFF00\", size=4, line=dict(color=\"black\", width=1)),\n",
    "        connectgaps=True,\n",
    "        text=[f\"{y:.2f}\" for y in before_current_time1[\"y\"]],\n",
    "        hovertemplate=\"Temp: %{text}°C<extra></extra>\"\n",
    "    )\n",
    ")\n",
    "\n",
    "# Update layout for better visualization\n",
    "fig_hourly.update_layout(\n",
    "    title=\"Weekly Consumption and Temperature\",\n",
    "    xaxis_title=\"Date and Time\",\n",
    "    yaxis_title=\"Consumption (kWh) / Temperature (°C)\",\n",
    "    hovermode=\"x unified\"\n",
    ")\n",
    "\n",
    "# Show the figure\n",
    "fig_hourly.show()\n"
   ]
  },
  {
   "cell_type": "code",
   "execution_count": null,
   "metadata": {},
   "outputs": [],
   "source": []
  }
 ],
 "metadata": {
  "kernelspec": {
   "display_name": "Python 3",
   "language": "python",
   "name": "python3"
  },
  "language_info": {
   "codemirror_mode": {
    "name": "ipython",
    "version": 3
   },
   "file_extension": ".py",
   "mimetype": "text/x-python",
   "name": "python",
   "nbconvert_exporter": "python",
   "pygments_lexer": "ipython3",
   "version": "3.11.1"
  }
 },
 "nbformat": 4,
 "nbformat_minor": 2
}
